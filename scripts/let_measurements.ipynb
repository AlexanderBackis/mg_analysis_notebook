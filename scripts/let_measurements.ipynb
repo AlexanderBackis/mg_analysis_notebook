{
 "cells": [
  {
   "cell_type": "markdown",
   "metadata": {},
   "source": [
    "<font size=\"20\">\n",
    "\n",
    "# LET measurements, April 2020\n",
    "\n",
    "<font size=\"3\">\n",
    "    \n",
    "> __Author:__ A. Backis\n",
    "<br/>__Institute:__ European Spallation Source (ESS), University of Glasgow (UoG)\n",
    "<br/>__Date:__ 4/3-2020\n",
    "\n",
    "_Abstract:_\n",
    "This notebook contains the data-analysis tools used for the measurements at the LET instrument at ISIS. It describes how the analysis was performed, and summarizes the results."
   ]
  },
  {
   "cell_type": "markdown",
   "metadata": {},
   "source": [
    "# Contents\n",
    "    \n",
    "* [1. Introduction](#INTRODUCTION)\n",
    "    * [1.1 Packages](#PACKAGES)\n",
    "    * [1.2 Global parameters](#PACKAGES)\n",
    "* [2. Data](#DATA)\n",
    "    * [2.1 Descriptions](#EXTRACT)\n",
    "    * [2.2 Paths](#LOAD)\n",
    "    * [2.3 Extract](#FILTER)\n",
    "    * [2.4 Load](#FILTER)\n",
    "    * [2.5 Filter](#FILTER)\n",
    "* [3. Utgård](#DATA)\n",
    "* [Acknowledgements](#ACKNOWLEDGEMENTS)\n",
    "* [References](#REFERENCES)"
   ]
  },
  {
   "cell_type": "markdown",
   "metadata": {},
   "source": [
    "# 1. Introduction"
   ]
  },
  {
   "cell_type": "markdown",
   "metadata": {},
   "source": [
    "This notebook summarizes the details of the measurements performed at the LET instrument, at ISIS, England. The notebook contains all details on the preparations leading up to the beam time on the 28:th and 29:th April 2020. This includes preparations at Utgård and initial background testing at ISIS."
   ]
  },
  {
   "cell_type": "markdown",
   "metadata": {},
   "source": [
    "## 1.1 Packages<a class=\"anchor\" id=\"PACKAGES\"></a>"
   ]
  },
  {
   "cell_type": "code",
   "execution_count": null,
   "metadata": {},
   "outputs": [],
   "source": [
    "# Autoload packages when doing an external change\n",
    "%load_ext autoreload\n",
    "%autoreload 2\n",
    "\n",
    "# General packages\n",
    "import os\n",
    "import numpy as np\n",
    "import pandas as pd\n",
    "import matplotlib.pyplot as plt\n",
    "from matplotlib.colors import LogNorm\n",
    "\n",
    "# Data handling\n",
    "import mg.file_handling.read as mg_read\n",
    "\n",
    "# Plotting\n",
    "import mg.plotting.basic_plot as mg_basic_plot\n",
    "\n",
    "# Helper functions\n",
    "import mg.helper_functions.misc as mg_hf\n",
    "\n",
    "# Make matplotlib interactive mode in notebook\n",
    "%matplotlib inline\n",
    "%matplotlib notebook"
   ]
  },
  {
   "cell_type": "markdown",
   "metadata": {},
   "source": [
    "## 1.2 Global parameters"
   ]
  },
  {
   "cell_type": "code",
   "execution_count": null,
   "metadata": {},
   "outputs": [],
   "source": [
    "US_TO_TDC = 1 / (62.5e-9 * 1e6)\n",
    "PROCESSED_FOLDER = '../data/let/processed/'"
   ]
  },
  {
   "cell_type": "markdown",
   "metadata": {},
   "source": [
    "# 2. Data"
   ]
  },
  {
   "cell_type": "markdown",
   "metadata": {},
   "source": [
    "## 2.1 Descriptions<a class=\"anchor\" id=\"EXTRACT\"></a>"
   ]
  },
  {
   "cell_type": "markdown",
   "metadata": {},
   "source": [
    "**Utgård measurements**\n",
    "\n",
    "*utgard_run_1*:\n",
    "> Description:\n",
    "  <br/>Notes:\n",
    "\n",
    "*utgard_run_2*: \n",
    "> Description:\n",
    "  <br/>Notes:\n",
    "\n",
    "**LET measurements - tests**\n",
    "\n",
    "*let_test_run_1*: \n",
    "> Description:\n",
    "  <br/>Notes:\n",
    "\n",
    "**LET measurements - beam time**\n",
    "\n",
    "*let_beam_run_1*:\n",
    "> Description:\n",
    "  <br/>Notes:\n"
   ]
  },
  {
   "cell_type": "markdown",
   "metadata": {},
   "source": [
    "## 2.2 Paths<a class=\"anchor\" id=\"EXTRACT\"></a>"
   ]
  },
  {
   "cell_type": "code",
   "execution_count": null,
   "metadata": {},
   "outputs": [],
   "source": [
    "''' Declare paths to data '''\n",
    "\n",
    "# UTGÅRD\n",
    "UTGARD_PATHS = {'utgard_run_1': '',\n",
    "                'utgard_run_2': ''}\n",
    "\n",
    "# LET - PRELIMINARY TESTS\n",
    "LET_TEST_PATHS = {'let_test_run_1': '',\n",
    "                  'let_test_run_2': ''}\n",
    "                          \n",
    "# LET - BEAM TIME\n",
    "LET_BEAM_PATHS = {'let_beam_run_1': '',\n",
    "                  'let_beam_run_2': ''}         "
   ]
  },
  {
   "cell_type": "markdown",
   "metadata": {},
   "source": [
    "## 2.3 Extract<a class=\"anchor\" id=\"EXTRACT\"></a>"
   ]
  },
  {
   "cell_type": "code",
   "execution_count": null,
   "metadata": {},
   "outputs": [],
   "source": [
    "def extract_mg_data(zipped_path, clusters_save_path, events_save_path):\n",
    "    unzipped_path = mg_read.unzip_data(zipped_path)\n",
    "    data = mg_read.import_data(unzipped_path)\n",
    "    # Extract clusters and save to disc\n",
    "    clusters = mg_read.extract_clusters(data)\n",
    "    mg_read.save_data(clusters, clusters_save_path)\n",
    "    clusters = None\n",
    "    # Extract events and save to disc\n",
    "    events = mg_read.extract_events(data)\n",
    "    mg_read.save_data(events, events_save_path)\n",
    "    events = None\n",
    "    # Clear data\n",
    "    data = None"
   ]
  },
  {
   "cell_type": "code",
   "execution_count": null,
   "metadata": {},
   "outputs": [],
   "source": [
    "# Extract all Utgård data\n",
    "for run, raw_path in UTGARD_PATHS:\n",
    "    clusters_path = PROCESSED_FOLDER + run + '_clu.h5'\n",
    "    events_path = PROCESSED_FOLDER + run + '_ev.h5'\n",
    "    extract_mg_data(raw_path, clusters_path, events_path)\n",
    "    \n",
    "# Extract all LET test data\n",
    "#for run, raw_path in LET_TEST_PATHS:\n",
    "#    clusters_path = PROCESSED_FOLDER + run + '_clu.h5'\n",
    "#    events_path = PROCESSED_FOLDER + run + '_ev.h5'\n",
    "#    extract_mg_data(raw_path, clusters_path, events_path)\n",
    "\n",
    "# Extract all LET beam data\n",
    "#for run, raw_path in LET_BEAM_PATHS:\n",
    "#    clusters_path = PROCESSED_FOLDER + run + '_clu.h5'\n",
    "#    events_path = PROCESSED_FOLDER + run + '_ev.h5'\n",
    "#    extract_mg_data(raw_path, clusters_path, events_path)"
   ]
  },
  {
   "cell_type": "markdown",
   "metadata": {},
   "source": [
    "## 2.4 Load<a class=\"anchor\" id=\"LOAD\"></a>"
   ]
  },
  {
   "cell_type": "code",
   "execution_count": null,
   "metadata": {},
   "outputs": [],
   "source": [
    "utgard_data = {'events': {}, 'clusters': {}}\n",
    "\n",
    "# Load Utgård data\n",
    "for run in UTGARD_PATHS:\n",
    "    clusters_path = PROCESSED_FOLDER + run + '_clu.h5'\n",
    "    events_path = PROCESSED_FOLDER + run + '_ev.h5'\n",
    "    utgard_data['clusters'].update({run: mg_read.load_data(clusters_path})\n",
    "    utgard_data['events'].update({run: mg_read.load_data(events_path})"
   ]
  },
  {
   "cell_type": "markdown",
   "metadata": {},
   "source": [
    "## 2.5 Filter<a class=\"anchor\" id=\"FILTER\"></a>"
   ]
  },
  {
   "cell_type": "code",
   "execution_count": null,
   "metadata": {},
   "outputs": [],
   "source": [
    "\"\"\"\n",
    "Filters are declared in the following format:\n",
    "{'PARAMETER': [MIN_VALUE, MAX_VALUE, IS_ACTIVATE]}\n",
    "\"\"\"\n",
    "\n",
    "# Declare filter for multi-grid clusters\n",
    "mg_basic_filter = {'wm': [1, 1, True],                   # Wire multiplicity\n",
    "                   'gm': [1, 5, True],                   # Grid multiplicity\n",
    "                   'wadc': [600, np.inf, True],             # Wire charge\n",
    "                   'gadc': [600, np.inf, True],             # Grid charge\n",
    "                   'tof': [0, np.inf, True],           # Time-of-flight (TDC channels)\n",
    "                   'time': [0, np.inf, True],            # Time (TDC channels)\n",
    "                   'bus': [0, 2, True],                  # Bus\n",
    "                   'flag': [0, 1, False],                # =1 if different buses within same coincidence\n",
    "                   'layer': [0, 19, False],              # Layer, front=0 to back=19\n",
    "                   'row': [0, 11, False],                # Row, right to left (seen from neutrons)\n",
    "                   'gch': [80, 119, True]}              # Grid channel, bottom=80 to top=119"
   ]
  },
  {
   "cell_type": "code",
   "execution_count": null,
   "metadata": {},
   "outputs": [],
   "source": [
    "# Filter Utgård data\n",
    "utgard_data_basic_filter = {}\n",
    "for run, df in utgard_data['clusters']:\n",
    "    utgard_data_basic_filter.update({run: mg_read.filter_data(df, mg_basic_filter)})"
   ]
  },
  {
   "cell_type": "markdown",
   "metadata": {},
   "source": [
    "# 3. Utgård"
   ]
  },
  {
   "cell_type": "code",
   "execution_count": null,
   "metadata": {},
   "outputs": [],
   "source": []
  }
 ],
 "metadata": {
  "kernelspec": {
   "display_name": "Python 3",
   "language": "python",
   "name": "python3"
  },
  "language_info": {
   "codemirror_mode": {
    "name": "ipython",
    "version": 3
   },
   "file_extension": ".py",
   "mimetype": "text/x-python",
   "name": "python",
   "nbconvert_exporter": "python",
   "pygments_lexer": "ipython3",
   "version": "3.7.3"
  }
 },
 "nbformat": 4,
 "nbformat_minor": 2
}
