{
 "cells": [
  {
   "cell_type": "markdown",
   "metadata": {},
   "source": [
    "# Time- and energy resolved effects in thermal neutrons detectors\n",
    "> __Author:__ A. Backis\n",
    "<br/>__Institute:__ European Spallation Source (ESS), University of Glasgow\n",
    "<br/>__Date:__ 7/1-2020\n",
    "\n",
    "_Abstract:_\n",
    "This notebook contains the data-analysis tools used for the corresponding paper. It describes how the analysis was performed on data obtained with the Multi-Grid detector at the HZB."
   ]
  },
  {
   "cell_type": "markdown",
   "metadata": {},
   "source": [
    "## Contents\n",
    "* [1. Introduction](#INTRODUCTION)\n",
    "    * [1.1 Overview](#OVERVIEW)\n",
    "    * [1.2 Packages](#PACKAGES)\n",
    "* [2. Data](#DATA)\n",
    "    * [2.1 Extract](#EXTRACT)\n",
    "    * [2.2 Load](#LOAD)\n",
    "    * [2.3 Filter](#FILTER)\n",
    "* [3. Visualization](#VISUALIZATION)\n",
    "    * [3.1 PHS](#PHS)\n",
    "        * [3.1.1 1D](#PHS_1D)\n",
    "        * [3.1.2 2D](#PHS_2D)\n",
    "        * [2.1.3 Wires vs grids](#PHS_WIRES_VS_GRIDS)\n",
    "    * [3.2 Time-of-flight](#TIME_OF_FLIGHT)\n",
    "    * [3.3 Coincidences](#COINCIDENCES)\n",
    "        * [3.3.1 Wires vs grids](#COINCIDENCES_WIRES_VS_GRIDS)\n",
    "        * [3.3.2 Projections](#PROJECTIONS)\n",
    "        * [3.3.3 3D-Rotation](#3D_ROTATION)\n",
    "    * [3.4 Multiplicity](#MULTIPLICITY)\n",
    "    * [3.5 Rate](#RATE)\n",
    "    * [3.6 Layers](#LAYERS)\n",
    "    * [3.7 Energy](#ENERGY)\n",
    "    * [3.8 Wavelength](#WAVELENGTH)\n",
    "* [4. Analysis](#ANALYSIS)\n",
    "    * [4.1 Electronic noise](#ELECTRONIC_NOISE)\n",
    "    * [4.2 Efficiency](#EFFICIENCY)\n",
    "    * [4.3 Line shape](#LINE_SHAPE)\n",
    "    * [4.4 Time- and energy resolution](#TIME_AND_ENERGY_RESOLUTION)\n",
    "* [Acknowledgements](#ACKNOWLEDGEMENTS)\n",
    "* [References](#REFERENCES)"
   ]
  },
  {
   "cell_type": "markdown",
   "metadata": {},
   "source": [
    "### 1. Introduction<a class=\"anchor\" id=\"INTRODUCTION\"></a>"
   ]
  },
  {
   "cell_type": "markdown",
   "metadata": {},
   "source": [
    "#### 1.1 Overview<a class=\"anchor\" id=\"OVERVIEW\"></a>"
   ]
  },
  {
   "cell_type": "markdown",
   "metadata": {},
   "source": [
    "#### 1.2 Packages<a class=\"anchor\" id=\"PACKAGES\"></a>"
   ]
  },
  {
   "cell_type": "code",
   "execution_count": null,
   "metadata": {},
   "outputs": [],
   "source": [
    "# Autoload packages when doing an external change\n",
    "%load_ext autoreload\n",
    "%autoreload 2\n",
    "\n",
    "# Make matplotlib interactive mode in notebook\n",
    "%matplotlib inline\n",
    "%matplotlib notebook\n",
    "\n",
    "# General packages\n",
    "import os\n",
    "import numpy as np\n",
    "import pandas as pd\n",
    "import matplotlib.pyplot as plt\n",
    "\n",
    "# Data handling\n",
    "import mg.file_handling.read as mg_read\n",
    "import he3.read as he3_read\n",
    "\n",
    "# Plotting\n",
    "import mg.plotting.basic_plot as mg_basic_plot\n",
    "import mg.plotting.advanced_plot as mg_advanced_plot\n",
    "import he3.plotting as he3_plot\n",
    "\n",
    "# Energy calculation\n",
    "import mg.helper_functions.energy_calculation as mg_energy\n",
    "import he3.energy_calculation as he3_energy\n",
    "\n",
    "# Helper functions\n",
    "import mg.helper_functions.misc as mg_hf"
   ]
  },
  {
   "cell_type": "markdown",
   "metadata": {},
   "source": [
    "Declare helper functions and global variables"
   ]
  },
  {
   "cell_type": "code",
   "execution_count": null,
   "metadata": {},
   "outputs": [],
   "source": [
    "\n",
    "# Declare beam monitors norms\n",
    "MONITOR_NORM_R = 1/11411036\n",
    "MONITOR_NORM_NR = 1/9020907\n",
    "MONITOR_NORM_HE3 = 1/10723199\n",
    "\n",
    "# Declare distance offsets\n",
    "DIST_OFFSET_R = 1.5e-3\n",
    "DIST_OFFSET_NR = 0\n",
    "DIST_OFFSET_HE3 = 3e-3\n",
    "\n",
    "def set_thick_labels(thickness):\n",
    "    # Customize matplotlib font sizes\n",
    "    plt.rc('font', size=thickness)          # controls default text sizes\n",
    "    plt.rc('axes', titlesize=thickness)     # fontsize of the axes title\n",
    "    plt.rc('axes', labelsize=thickness)    # fontsize of the x and y labels\n",
    "    plt.rc('xtick', labelsize=thickness)    # fontsize of the tick labels\n",
    "    plt.rc('ytick', labelsize=thickness)    # fontsize of the tick labels\n",
    "    plt.rc('legend', fontsize=thickness)    # legend fontsize\n",
    "    plt.rc('figure', titlesize=thickness)  # fontsize of the figure title"
   ]
  },
  {
   "cell_type": "markdown",
   "metadata": {},
   "source": [
    "### 2. Data<a class=\"anchor\" id=\"DATA\"></a>"
   ]
  },
  {
   "cell_type": "code",
   "execution_count": null,
   "metadata": {},
   "outputs": [],
   "source": [
    "# Declare paths to raw data\n",
    "mg_radial_path = '../data/raw/mvmelst_165_191002_111641_Det2_overnight3.zip'\n",
    "mg_no_radial_path = '../data/raw/mvmelst_135_190930_141618_Det1_overnight2_30x80_14x60.zip'\n",
    "he3_path = '../data/raw/2019_09_HZB_He3InBeam54304s_overnight.lst'\n",
    "# Declare paths to clusters\n",
    "mg_radial_clusters_path = '../data/processed/clusters_mvmelst_165_191002_111641_Det2_overnight3.h5'\n",
    "mg_no_radial_clusters_path = '../data/processed/clusters_mvmelst_135_190930_141618_Det1_overnight2_30x80_14x60.h5'\n",
    "# Declare paths to events\n",
    "mg_radial_events_path = '../data/processed/events_mvmelst_165_191002_111641_Det2_overnight3.h5'\n",
    "mg_no_radial_events_path = '../data/processed/events_mvmelst_135_190930_141618_Det1_overnight2_30x80_14x60.h5'\n",
    "he3_events_path = '../data/processed/events_2019_09_HZB_He3InBeam54304s_overnight.h5'"
   ]
  },
  {
   "cell_type": "markdown",
   "metadata": {},
   "source": [
    "#### 2.1 Extract<a class=\"anchor\" id=\"EXTRACT\"></a>"
   ]
  },
  {
   "cell_type": "code",
   "execution_count": null,
   "metadata": {},
   "outputs": [],
   "source": [
    "def extract_mg_data(zipped_path, clusters_save_path, events_save_path):\n",
    "    unzipped_path = mg_read.unzip_data(zipped_path)\n",
    "    data = mg_read.import_data(unzipped_path)\n",
    "    # Extract clusters and save to disc\n",
    "    clusters = mg_read.extract_clusters(data)\n",
    "    mg_read.save_data(clusters, clusters_save_path)\n",
    "    clusters = None\n",
    "    # Extract events and save to disc\n",
    "    #events = mg_read.extract_events(data)\n",
    "    #mg_read.save_data(events, events_save_path)\n",
    "    events = None\n",
    "    # Clear data\n",
    "    data = None"
   ]
  },
  {
   "cell_type": "code",
   "execution_count": null,
   "metadata": {},
   "outputs": [],
   "source": [
    "def extract_he3_data(raw_path, save_path):\n",
    "    df = he3_read.extract_events(raw_path)\n",
    "    he3_read.save_data(df, save_path)\n",
    "    df = None"
   ]
  },
  {
   "cell_type": "code",
   "execution_count": null,
   "metadata": {
    "scrolled": true
   },
   "outputs": [],
   "source": [
    "extract_mg_data(mg_radial_path, mg_radial_clusters_path, mg_radial_events_path)\n",
    "extract_mg_data(mg_no_radial_path, mg_no_radial_clusters_path, mg_no_radial_events_path)\n",
    "#extract_he3_data(he3_path, he3_events_path)"
   ]
  },
  {
   "cell_type": "markdown",
   "metadata": {},
   "source": [
    "#### 2.2 Load<a class=\"anchor\" id=\"LOAD\"></a>"
   ]
  },
  {
   "cell_type": "code",
   "execution_count": null,
   "metadata": {},
   "outputs": [],
   "source": [
    "# Load multi-grid clusters\n",
    "mg_radial_ce_df = mg_read.load_data(mg_radial_clusters_path)\n",
    "mg_no_radial_ce_df = mg_read.load_data(mg_no_radial_clusters_path)\n",
    "# Load multi-grid events\n",
    "mg_radial_e_df = mg_read.load_data(mg_radial_events_path)\n",
    "mg_no_radial_e_df = mg_read.load_data(mg_no_radial_events_path)\n",
    "# Load He-3 events\n",
    "he3_df = he3_read.load_data(he3_events_path)"
   ]
  },
  {
   "cell_type": "markdown",
   "metadata": {},
   "source": [
    "#### 2.3 Filter<a class=\"anchor\" id=\"FILTER\"></a>"
   ]
  },
  {
   "cell_type": "code",
   "execution_count": null,
   "metadata": {},
   "outputs": [],
   "source": [
    "\"\"\"\n",
    "Filters are declared in the following format:\n",
    "{'PARAMETER': [MIN_VALUE, MAX_VALUE, IS_ACTIVATE]}\n",
    "\"\"\"\n",
    "\n",
    "us_to_tdc = 1 / (62.5e-9 * 1e6)\n",
    "\n",
    "# Declare filter for multi-grid clusters\n",
    "mg_filter_clusters = {'wm': [1, 1, True],                   # Wire multiplicity\n",
    "                      'gm': [1, 5, True],                   # Grid multiplicity\n",
    "                      'wadc': [600, np.inf, True],             # Wire charge\n",
    "                      'gadc': [600, np.inf, True],             # Grid charge\n",
    "                      'tof': [0, np.inf, True],           # Time-of-flight (TDC channels)\n",
    "                      'time': [0, np.inf, True],            # Time (TDC channels)\n",
    "                      'bus': [0, 2, True],                  # Bus\n",
    "                      'flag': [0, 1, False],                # =1 if different buses within same coincidence\n",
    "                      'layer': [0, 19, False],              # Layer, front=0 to back=19\n",
    "                      'row': [0, 11, False],                # Row, right to left (seen from neutrons)\n",
    "                      'gch': [80, 119, True]}              # Grid channel, bottom=80 to top=119\n",
    "\n",
    "# Declare filter for multi-grid events\n",
    "mg_filter_events = {'bus': [0, 2, False],                   # Bus\n",
    "                    'ch': [0, 119, False],                  # Channel\n",
    "                    'adc': [0, np.inf, False]}              # Collected charge (ADC channels)\n",
    "\n",
    "# Declare filters for He-3 data\n",
    "he3_filter = {'adc': [7500, np.inf, True],                  # Collected charge (ADC channels)\n",
    "              'tof': [0, 71429e-6, True]}                   # Time-of-flight (s)\n",
    "\n",
    "# Perform filters\n",
    "mg_r = mg_read.filter_data(mg_radial_ce_df, mg_filter_clusters)\n",
    "mg_nr = mg_read.filter_data(mg_no_radial_ce_df, mg_filter_clusters)\n",
    "he3 = he3_read.filter_data(he3_df, he3_filter)"
   ]
  },
  {
   "cell_type": "markdown",
   "metadata": {},
   "source": [
    "### 3. Visualization<a class=\"anchor\" id=\"VISUALIZATION\"></a>"
   ]
  },
  {
   "cell_type": "markdown",
   "metadata": {},
   "source": [
    "#### 3.1 PHS<a class=\"anchor\" id=\"PHS\"></a>"
   ]
  },
  {
   "cell_type": "markdown",
   "metadata": {},
   "source": [
    "##### 3.1.1 PHS - 1D<a class=\"anchor\" id=\"PHS_1D\"></a>"
   ]
  },
  {
   "cell_type": "code",
   "execution_count": null,
   "metadata": {
    "scrolled": false
   },
   "outputs": [],
   "source": [
    "%matplotlib notebook\n",
    "# Define parameters\n",
    "number_bins = 500\n",
    "interval = [0, 1e4]\n",
    "# Plot\n",
    "fig = mg_basic_plot.phs_1d_plot(mg_r, number_bins, interval, 'Radial coating')\n",
    "fig.show()\n",
    "fig = mg_basic_plot.phs_1d_plot(mg_nr, number_bins, interval, 'No radial coating')\n",
    "fig.show()\n",
    "fig = he3_plot.phs_1d_plot(he3, number_bins, 'He-3')\n",
    "fig.show()"
   ]
  },
  {
   "cell_type": "markdown",
   "metadata": {},
   "source": [
    "##### 3.1.2 PHS - 2D<a class=\"anchor\" id=\"PHS_2D\"></a>"
   ]
  },
  {
   "cell_type": "code",
   "execution_count": null,
   "metadata": {},
   "outputs": [],
   "source": [
    "# Define parameters\n",
    "bus_start = 0\n",
    "bus_stop = 2\n",
    "# Plot\n",
    "fig = mg_basic_plot.phs_2d_plot(mg_radial_e_df, bus_start, bus_stop, 'Radial coating')\n",
    "fig.show()\n",
    "fig = mg_basic_plot.phs_2d_plot(mg_no_radial_e_df, bus_start, bus_stop, 'No radial coating')\n",
    "fig.show()"
   ]
  },
  {
   "cell_type": "markdown",
   "metadata": {},
   "source": [
    "##### 3.1.3 PHS - Wires vs grids<a class=\"anchor\" id=\"PHS_WIRES_VS_GRIDS\"></a>"
   ]
  },
  {
   "cell_type": "code",
   "execution_count": null,
   "metadata": {},
   "outputs": [],
   "source": [
    "# Define parameters\n",
    "bus_start = 0\n",
    "bus_stop = 2\n",
    "# Plot\n",
    "fig = mg_basic_plot.phs_wires_vs_grids_plot(mg_r, bus_start, bus_stop, 'Radial coating')\n",
    "fig.show()\n",
    "fig = mg_basic_plot.phs_wires_vs_grids_plot(mg_nr, bus_start, bus_stop, 'No radial coating')\n",
    "fig.show()"
   ]
  },
  {
   "cell_type": "markdown",
   "metadata": {},
   "source": [
    "#### 3.2 Time-of-flight<a class=\"anchor\" id=\"TIME_OF_FLIGHT\"></a>"
   ]
  },
  {
   "cell_type": "code",
   "execution_count": null,
   "metadata": {
    "scrolled": false
   },
   "outputs": [],
   "source": [
    "%matplotlib notebook\n",
    "# Declare parameters\n",
    "number_bins = 2000\n",
    "interval = [0, 71429]\n",
    "# Plot\n",
    "fig = plt.figure()\n",
    "mg_basic_plot.tof_histogram(mg_r, number_bins, 'Radial coating')\n",
    "fig.show()\n",
    "fig = plt.figure()\n",
    "mg_basic_plot.tof_histogram(mg_nr, number_bins, 'No radial coating')\n",
    "fig.show()\n",
    "fig = plt.figure()\n",
    "he3_plot.tof_histogram(he3, number_bins, 'He-3')\n",
    "fig.show()\n",
    "fig = plt.figure()\n",
    "mg_basic_plot.tof_histogram(mg_r, number_bins, '', label='Radial', interval=interval)\n",
    "mg_basic_plot.tof_histogram(mg_nr, number_bins, 'Overlay', label='No radial', interval=interval)\n",
    "he3_plot.tof_histogram(he3, number_bins, label='He-3', interval=interval)\n",
    "plt.legend()\n",
    "fig.show()"
   ]
  },
  {
   "cell_type": "markdown",
   "metadata": {},
   "source": [
    "#### 3.3 Coincidences<a class=\"anchor\" id=\"COINCIDENCES\"></a>"
   ]
  },
  {
   "cell_type": "markdown",
   "metadata": {},
   "source": [
    "##### 3.3.1 Wires vs grids<a class=\"anchor\" id=\"COINCIDENCES_WIRES_VS_GRIDS\"></a>"
   ]
  },
  {
   "cell_type": "code",
   "execution_count": null,
   "metadata": {},
   "outputs": [],
   "source": [
    "# Declare parameters\n",
    "duration_r = mg_r.time.values[-1] - mg_r.time.values[0]\n",
    "duration_nr = mg_nr.time.values[-1] - mg_nr.time.values[0]\n",
    "bus_start = 0\n",
    "bus_stop = 2\n",
    "# Plot\n",
    "fig, __ = mg_basic_plot.ce_2d_plot(mg_r, duration_r, bus_start, bus_stop, 'Radial coating')\n",
    "fig.show()\n",
    "fig, __ = mg_basic_plot.ce_2d_plot(mg_nr, duration_nr, bus_start, bus_stop, 'No radial coating')\n",
    "fig.show()"
   ]
  },
  {
   "cell_type": "markdown",
   "metadata": {},
   "source": [
    "##### 3.3.2 Projections<a class=\"anchor\" id=\"PROJECTIONS\"></a>"
   ]
  },
  {
   "cell_type": "code",
   "execution_count": null,
   "metadata": {},
   "outputs": [],
   "source": [
    "# Declare parameters\n",
    "bus_start = 0\n",
    "bus_stop = 2\n",
    "# Plot\n",
    "fig, __ = mg_basic_plot.ce_projections_plot(mg_r, bus_start, bus_stop, 'Radial coating')\n",
    "fig.show()\n",
    "fig, __ = mg_basic_plot.ce_projections_plot(mg_nr, bus_start, bus_stop, 'No radial coating')\n",
    "fig.show()"
   ]
  },
  {
   "cell_type": "markdown",
   "metadata": {},
   "source": [
    "##### 3.3.3 3D-rotation<a class=\"anchor\" id=\"3D_ROTATION\"></a>"
   ]
  },
  {
   "cell_type": "code",
   "execution_count": null,
   "metadata": {},
   "outputs": [],
   "source": [
    "mg_basic_plot.ce_3d_plot(mg_r, 'Radial coating')\n",
    "mg_basic_plot.ce_3d_plot(mg_nr, 'No radial coating')"
   ]
  },
  {
   "cell_type": "markdown",
   "metadata": {},
   "source": [
    "#### 3.4 Multiplicity<a class=\"anchor\" id=\"MULTIPLICITY\"></a>"
   ]
  },
  {
   "cell_type": "code",
   "execution_count": null,
   "metadata": {},
   "outputs": [],
   "source": [
    "# Declare parameters\n",
    "bus_start = 0\n",
    "bus_stop = 2\n",
    "# Plot\n",
    "fig = mg_basic_plot.multiplicity_plot(mg_r, bus_start, bus_stop, 'Radial coating')\n",
    "fig.show()\n",
    "fig = mg_basic_plot.multiplicity_plot(mg_nr, bus_start, bus_stop, 'No radial coating')\n",
    "fig.show()"
   ]
  },
  {
   "cell_type": "markdown",
   "metadata": {},
   "source": [
    "#### 3.5 Rate<a class=\"anchor\" id=\"RATE\"></a>"
   ]
  },
  {
   "cell_type": "code",
   "execution_count": null,
   "metadata": {},
   "outputs": [],
   "source": [
    "# Declare parameters\n",
    "number_bins = 50\n",
    "# Plot\n",
    "fig = plt.figure()\n",
    "mg_basic_plot.rate_plot(mg_r, number_bins, 'Radial coating')\n",
    "mg_basic_plot.rate_plot(mg_nr, number_bins, 'No radial coating')\n",
    "plt.legend()\n",
    "fig.show()"
   ]
  },
  {
   "cell_type": "markdown",
   "metadata": {},
   "source": [
    "##### 3.6 Layers<a class=\"anchor\" id=\"LAYERS\"></a>"
   ]
  },
  {
   "cell_type": "markdown",
   "metadata": {},
   "source": [
    "###### 3.6.1 Time-of-flight, voxel by voxel"
   ]
  },
  {
   "cell_type": "code",
   "execution_count": null,
   "metadata": {},
   "outputs": [],
   "source": [
    "#fig = mg_advanced_plot.layers_tof(mg_r, 'Multi-Grid:R')\n",
    "#fig.show()\n",
    "set_thick_labels(10)\n",
    "fig = mg_advanced_plot.layers_tof(mg_nr, 'Multi-Grid:NR')\n",
    "fig.show()"
   ]
  },
  {
   "cell_type": "markdown",
   "metadata": {},
   "source": [
    "###### 3.6.2 Counts, layer by layer"
   ]
  },
  {
   "cell_type": "code",
   "execution_count": null,
   "metadata": {},
   "outputs": [],
   "source": [
    "# Declare parameters\n",
    "duration_r = mg_r.time.values[-1] - mg_r.time.values[0]\n",
    "duration_nr = mg_nr.time.values[-1] - mg_nr.time.values[0]\n",
    "# Plot\n",
    "fig = mg_advanced_plot.layers_counts(mg_r, duration_r, 'Coated radial')\n",
    "fig.show()\n",
    "fig = mg_advanced_plot.layers_counts(mg_nr, duration_nr, 'Not coated radial')\n",
    "fig.show()"
   ]
  },
  {
   "cell_type": "markdown",
   "metadata": {},
   "source": [
    "##### 3.7 Energy<a class=\"anchor\" id=\"ENERGY\"></a>"
   ]
  },
  {
   "cell_type": "code",
   "execution_count": null,
   "metadata": {
    "scrolled": false
   },
   "outputs": [],
   "source": [
    "# Declare distance offsets\n",
    "dist_offset_r = 1.5e-3\n",
    "dist_offset_nr = 0\n",
    "dist_offset_he3 = 3e-3\n",
    "\n",
    "# Calculate energy distribution\n",
    "energies_r = mg_energy.get_energies(mg_r, dist_offset_r)\n",
    "energies_nr = mg_energy.get_energies(mg_nr, dist_offset_nr)\n",
    "energies_he3 = he3_energy.get_energies(he3, dist_offset_he3)\n",
    "\n",
    "# Declare parameters\n",
    "number_bins = 10000\n",
    "start = 0.8 # Å\n",
    "stop = 10 # Å\n",
    "\n",
    "# Plot\n",
    "fig = plt.figure()\n",
    "fig.set_figheight(5)\n",
    "fig.set_figwidth(14)\n",
    "__, __ = mg_advanced_plot.energy_plot(energies_r, number_bins, 'Radial coating',\n",
    "                                      useMaxNorm=True, start=start, stop=stop)\n",
    "__, __ = mg_advanced_plot.energy_plot(energies_nr, number_bins, 'No radial coating',\n",
    "                                      useMaxNorm=True, start=start, stop=stop)\n",
    "__, __ = he3_plot.energy_plot(energies_he3, number_bins, 'Helium-3 tube', \n",
    "                              useMaxNorm=True, start=start, stop=stop)\n",
    "plt.legend()\n",
    "fig.show()"
   ]
  },
  {
   "cell_type": "markdown",
   "metadata": {},
   "source": [
    "##### 3.8 Wavelength<a class=\"anchor\" id=\"WAVELENGTH\"></a>"
   ]
  },
  {
   "cell_type": "code",
   "execution_count": null,
   "metadata": {},
   "outputs": [],
   "source": [
    "# Calculate energy distribution\n",
    "energies_r = mg_energy.get_energies(mg_r, DIST_OFFSET_R)\n",
    "energies_nr = mg_energy.get_energies(mg_nr, DIST_OFFSET_NR)\n",
    "energies_he3 = he3_energy.get_energies(he3, DIST_OFFSET_HE3)\n",
    "\n",
    "# Declare parameters\n",
    "number_bins = 50000\n",
    "start = 0.5\n",
    "stop = 10\n",
    "\n",
    "# Plot\n",
    "fig = plt.figure()\n",
    "fig.set_figheight(5)\n",
    "fig.set_figwidth(14)\n",
    "__, __ = mg_advanced_plot.wavelength_plot(energies_r, number_bins, 'Radial coating',\n",
    "                                          useMaxNorm=True, start=start, stop=stop)\n",
    "__, __ = mg_advanced_plot.wavelength_plot(energies_nr, number_bins, 'No radial coating',\n",
    "                                          useMaxNorm=True, start=start, stop=stop)\n",
    "__, __ = he3_plot.wavelength_plot(energies_he3, number_bins, 'Helium-3 tube',\n",
    "                                  useMaxNorm=True, start=start, stop=stop)\n",
    "plt.legend()\n",
    "fig.show()\n",
    "fig = plt.figure()\n",
    "fig.set_figheight(5)\n",
    "fig.set_figwidth(14)\n",
    "__, __ = mg_advanced_plot.wavelength_plot(energies_r, number_bins, 'Radial coating',\n",
    "                                          useMaxNorm=True, start=start, stop=stop)\n",
    "__, __ = mg_advanced_plot.wavelength_plot(energies_nr, number_bins, 'No radial coating', \n",
    "                                          useMaxNorm=True, start=start, stop=stop)\n",
    "__, __ = he3_plot.wavelength_plot(energies_he3, number_bins, 'Helium-3 tube',\n",
    "                                  useMaxNorm=True, start=start, stop=stop)\n",
    "plt.legend()\n",
    "plt.yscale('log')\n",
    "fig.show()"
   ]
  },
  {
   "cell_type": "code",
   "execution_count": null,
   "metadata": {
    "scrolled": true
   },
   "outputs": [],
   "source": [
    "# =============================================================================\n",
    "#                                 GET ALL PEAKS - WAVELENGTH\n",
    "# =============================================================================\n",
    "\n",
    "# Calculate energy distribution\n",
    "energies_r = mg_energy.get_energies(mg_r, DIST_OFFSET_R)\n",
    "energies_nr = mg_energy.get_energies(mg_nr, DIST_OFFSET_NR)\n",
    "energies_he3 = he3_energy.get_energies(he3, DIST_OFFSET_HE3)\n",
    "\n",
    "# Define peak locations (here we use the He-3 peak locations)\n",
    "peaks = np.array([0.886, 1.030, 1.177, 1.321, 1.466, 1.610, 1.755, 1.900, 2.044, 2.188, \n",
    "                  2.333, 2.477, 2.622, 2.766, 2.911, 3.056, 3.200, 3.344, 3.489, 3.633,\n",
    "                  3.778, 3.923, 4.068, 4.211, 4.356, 4.500, 4.645, 4.790, 4.934, 5.079,\n",
    "                  5.223, 5.368, 5.513, 5.657, 5.801, 5.946, 6.090, 6.235, 6.379, 6.524,\n",
    "                  6.669, 6.813, 6.958, 7.102, 7.246, 7.391, 7.536, 7.680, 7.825, 7.969])\n",
    "peak_window = 0.04\n",
    "\n",
    "# Declare plotting specifications\n",
    "number_bins = 250\n",
    "lower_y = 0\n",
    "upper_y = 40e3\n",
    "\n",
    "# Iterate through all peaks\n",
    "for peak in peaks:\n",
    "    # Plot all data together\n",
    "    fig = plt.figure()\n",
    "    hist_r, bins_r = mg_advanced_plot.wavelength_plot(energies_r, number_bins, 'Multi-Grid:R',\n",
    "                                                      start=peak-peak_window/2, stop=peak+peak_window/2,\n",
    "                                                      color='green', scaling=MONITOR_NORM_R)\n",
    "    hist_nr, bins_nr = mg_advanced_plot.wavelength_plot(energies_nr, number_bins, 'Multi-Grid:NR',\n",
    "                                                        start=peak-peak_window/2, stop=peak+peak_window/2,\n",
    "                                                        color='blue', scaling=MONITOR_NORM_NR)\n",
    "    hist_he3, bins_he3 = he3_plot.wavelength_plot(energies_he3, number_bins, 'Helium-3',\n",
    "                                                  start=peak-peak_window/2, stop=peak+peak_window/2,\n",
    "                                                  color='red', scaling=MONITOR_NORM_HE3)\n",
    "    plt.legend(title='Detector')\n",
    "    plt.title('Wavelength distribution, peak at %.3f Å (%.3f meV)' % (peak, mg_hf.A_to_meV(peak)))\n",
    "    plt.ylabel('Normalized counts')\n",
    "    plt.locator_params(axis='y', nbins=5)\n",
    "    plt.locator_params(axis='x', nbins=5)\n",
    "    #plt.yscale('log')\n",
    "    # Save data\n",
    "    output_path = '../output/peak_at_%.2f_Å_%.2f_meV.pdf' % (peak, mg_hf.A_to_meV(peak))\n",
    "    fig.savefig(output_path, bbox_inches='tight')\n",
    "    plt.close()"
   ]
  },
  {
   "cell_type": "code",
   "execution_count": null,
   "metadata": {},
   "outputs": [],
   "source": [
    "# =============================================================================\n",
    "#                                 GET ALL PEAKS - ENERGY\n",
    "# =============================================================================\n",
    "\n",
    "# Calculate energy distribution\n",
    "energies_r = mg_energy.get_energies(mg_r, DIST_OFFSET_R)\n",
    "energies_nr = mg_energy.get_energies(mg_nr, DIST_OFFSET_NR)\n",
    "energies_he3 = he3_energy.get_energies(he3, DIST_OFFSET_HE3)\n",
    "\n",
    "# Define peak locations (here we use the He-3 peak locations)\n",
    "peaks = np.array([0.886, 1.030, 1.177, 1.321, 1.466, 1.610, 1.755, 1.900, 2.044, 2.188, \n",
    "                  2.333, 2.477, 2.622, 2.766, 2.911, 3.056, 3.200, 3.344, 3.489, 3.633,\n",
    "                  3.778, 3.923, 4.068, 4.211, 4.356, 4.500, 4.645, 4.790, 4.934, 5.079,\n",
    "                  5.223, 5.368, 5.513, 5.657, 5.801, 5.946, 6.090, 6.235, 6.379, 6.524,\n",
    "                  6.669, 6.813, 6.958, 7.102, 7.246, 7.391, 7.536, 7.680, 7.825, 7.969])\n",
    "peak_window = 0.04\n",
    "\n",
    "# Declare plotting specifications\n",
    "number_bins = 250\n",
    "lower_y = 0\n",
    "upper_y = 40e3\n",
    "\n",
    "# Iterate through all peaks\n",
    "for peak in peaks:\n",
    "    # Plot all data together\n",
    "    fig = plt.figure()\n",
    "    hist_r, bins_r = mg_advanced_plot.energy_plot(energies_r, number_bins, 'Multi-Grid:R',\n",
    "                                                  start=peak-peak_window/2, stop=peak+peak_window/2,\n",
    "                                                  color='green', scaling=MONITOR_NORM_R)\n",
    "    hist_nr, bins_nr = mg_advanced_plot.energy_plot(energies_nr, number_bins, 'Multi-Grid:NR',\n",
    "                                                    start=peak-peak_window/2, stop=peak+peak_window/2,\n",
    "                                                    color='blue', scaling=MONITOR_NORM_NR)\n",
    "    hist_he3, bins_he3 = he3_plot.energy_plot(energies_he3, number_bins, 'Helium-3',\n",
    "                                              start=peak-peak_window/2, stop=peak+peak_window/2,\n",
    "                                              color='red', scaling=MONITOR_NORM_HE3)\n",
    "    plt.legend(title='Detector')\n",
    "    plt.title('Energy distribution, peak at %.3f meV (%.3f Å)' % (mg_hf.A_to_meV(peak), peak))\n",
    "    plt.ylabel('Normalized counts')\n",
    "    #plt.locator_params(axis='y', nbins=5)\n",
    "    #plt.locator_params(axis='x', nbins=5)\n",
    "    #plt.yscale('log')\n",
    "    plt.xscale('linear')\n",
    "    plt.yscale('linear')\n",
    "    # Save data\n",
    "    output_path = '../output/peak_at_%.2f_Å_%.2f_meV.pdf' % (peak, mg_hf.A_to_meV(peak))\n",
    "    fig.savefig(output_path, bbox_inches='tight')\n",
    "    plt.close()"
   ]
  },
  {
   "cell_type": "markdown",
   "metadata": {},
   "source": [
    "##### 3.9 Event distribution"
   ]
  },
  {
   "cell_type": "code",
   "execution_count": null,
   "metadata": {},
   "outputs": [],
   "source": [
    "# Declare parameters\n",
    "number_bins = 20000\n",
    "interval = [-0.05, 0.05]\n",
    "\n",
    "# Plot Helium-3 vs Multi-Grid distribution between events\n",
    "fig = plt.figure()\n",
    "fig.set_figheight(5)\n",
    "fig.set_figwidth(14)\n",
    "plt.hist(np.diff(he3.tof.values), bins=number_bins, range=interval,\n",
    "         zorder=5, label='Helium-3', histtype='step')\n",
    "plt.hist(np.diff(mg_r.tof.values * 62.5e-9), bins=number_bins, range=interval,\n",
    "         zorder=5, label='Multi-Grid:R', histtype='step')\n",
    "plt.grid(True, which='major', linestyle='--', zorder=0)\n",
    "plt.grid(True, which='minor', linestyle='--', zorder=0)\n",
    "plt.xlabel('Delta_t (s)')\n",
    "plt.ylabel('Counts')\n",
    "plt.yscale('log')\n",
    "plt.title('Helium-3 vs Multi-Grid:R')\n",
    "plt.legend()\n",
    "fig.show()\n",
    "\n",
    "# Plot zoomed\n",
    "interval = [0, 0.0002]\n",
    "number_bins = 1000\n",
    "fig = plt.figure()\n",
    "fig.set_figheight(5)\n",
    "fig.set_figwidth(14)\n",
    "plt.hist(np.diff(he3.tof.values), bins=number_bins, range=interval,\n",
    "         zorder=5, label='Helium-3', histtype='step')\n",
    "plt.hist(np.diff(mg_r.tof.values * 62.5e-9), bins=number_bins, range=interval,\n",
    "         zorder=5, label='Multi-Grid:R', histtype='step')\n",
    "plt.grid(True, which='major', linestyle='--', zorder=0)\n",
    "plt.grid(True, which='minor', linestyle='--', zorder=0)\n",
    "plt.xlabel('Delta_t (s)')\n",
    "plt.ylabel('Counts')\n",
    "plt.yscale('log')\n",
    "plt.title('Helium-3 vs Multi-Grid:R')\n",
    "plt.legend()\n",
    "fig.show()"
   ]
  },
  {
   "cell_type": "markdown",
   "metadata": {},
   "source": [
    "### 4. Analysis<a class=\"anchor\" id=\"ANALYSIS\"></a>"
   ]
  },
  {
   "cell_type": "markdown",
   "metadata": {},
   "source": [
    "##### 4.1 Electronic noise<a class=\"anchor\" id=\"ELECTRONIC_NOISE\"></a>"
   ]
  },
  {
   "cell_type": "code",
   "execution_count": null,
   "metadata": {},
   "outputs": [],
   "source": []
  },
  {
   "cell_type": "markdown",
   "metadata": {},
   "source": [
    "##### 4.2 Efficiency<a class=\"anchor\" id=\"EFFICIENCY\"></a>"
   ]
  },
  {
   "cell_type": "markdown",
   "metadata": {},
   "source": [
    "###### 4.2.1 Helium-3, calculated and measured efficiency"
   ]
  },
  {
   "cell_type": "code",
   "execution_count": null,
   "metadata": {},
   "outputs": [],
   "source": [
    "%matplotlib notebook\n",
    "\n",
    "# Declare paths\n",
    "he3_centered_path = '../tables/he3_efficiency_centered.txt'\n",
    "he3_5mm_offset_path = '../tables/he3_efficiency_5mm_offset.txt'\n",
    "he3_incorrect_radius_path = '../tables/He3_efficiency_Full_wrong_radius.txt'\n",
    "he3_incorrect_radius_path2 = '../tables/He3_efficiency_wrong_radius.txt'\n",
    "he3_efficiency_vs_radius = '../tables/he3_efficiency_vs_offset.txt'\n",
    "\n",
    "# Load data\n",
    "he3_e_center = np.loadtxt(he3_centered_path, delimiter=\",\", unpack=True)\n",
    "he3_e_5mm_offset = np.loadtxt(he3_5mm_offset_path, delimiter=\",\", unpack=True)\n",
    "he3_e_wrong_full = np.loadtxt(he3_incorrect_radius_path, delimiter=\",\", unpack=True)\n",
    "he3_e_wrong = np.loadtxt(he3_incorrect_radius_path2, delimiter=\",\", unpack=True)\n",
    "he3_e_vs_radius = np.loadtxt(he3_efficiency_vs_radius, delimiter=\",\", unpack=True)\n",
    "\n",
    "# Plot efficiency tube diameter @ 2.5 Å, measured and calculated\n",
    "positions = np.array([-12, -9, -6, -3, 0, 3, 6, 9, 12])\n",
    "efficiencies = np.array([49.7, 89.7, 94.5, 96.2, 96.3, 96.2, 95.2, 90.6, 43.7])\n",
    "uncertainties = np.array([0.2, 0.3, 0.3, 0.3, 0.3, 0.3, 0.3, 0.3, 0.2])\n",
    "fig = plt.figure()\n",
    "plt.grid(True, which='major', linestyle='--', zorder=0)\n",
    "plt.grid(True, which='minor', linestyle='--', zorder=0)\n",
    "plt.plot(he3_e_vs_radius[0], he3_e_vs_radius[1], label='Calculation', zorder=5)\n",
    "plt.errorbar(positions/10, efficiencies/100, uncertainties/100, fmt='.', label='Measurement', zorder=5)\n",
    "plt.legend()\n",
    "fig.show()\n",
    "\n",
    "# Plot \n",
    "fig = plt.figure()\n",
    "plt.grid(True, which='major', linestyle='--', zorder=0)\n",
    "plt.grid(True, which='minor', linestyle='--', zorder=0)\n",
    "plt.plot(he3_e_center[0], he3_e_center[1], label='Centered', zorder=5)\n",
    "plt.plot(he3_e_5mm_offset[0], he3_e_5mm_offset[1], label='5 mm offset', zorder=5)\n",
    "#plt.plot(he3_e_wrong_full[0], he3_e_wrong_full[1], label='Wrong radius', zorder=5)\n",
    "#plt.plot(he3_e_wrong[0], he3_e_wrong[1], label='Wrong radius', zorder=5)\n",
    "plt.legend()\n",
    "fig.show()"
   ]
  },
  {
   "cell_type": "markdown",
   "metadata": {},
   "source": [
    "###### 4.2.2 Peak areas"
   ]
  },
  {
   "cell_type": "code",
   "execution_count": null,
   "metadata": {
    "scrolled": true
   },
   "outputs": [],
   "source": [
    "# =============================================================================\n",
    "#                            GET ALL PEAK AREAS AND FWHM\n",
    "# =============================================================================\n",
    "\n",
    "# Calculate energy distribution\n",
    "energies_nr = mg_energy.get_energies(mg_nr, DIST_OFFSET_NR)\n",
    "energies_he3 = he3_energy.get_energies(he3, DIST_OFFSET_HE3)\n",
    "\n",
    "# Define peak locations (here we use the He-3 peak locations)\n",
    "peaks = np.array([0.886, 1.030, 1.177, 1.321, 1.466, 1.610, 1.755, 1.900, 2.044, 2.188, \n",
    "                  2.333, 2.477, 2.622, 2.766, 2.911, 3.056, 3.200, 3.344, 3.489, 3.633,\n",
    "                  3.778, 3.923, 4.068, 4.211, 4.356, 4.500, 4.645, 4.790, 4.934, 5.079,\n",
    "                  5.223, 5.368, 5.513, 5.657, 5.801, 5.946, 6.090, 6.235, 6.379, 6.524,\n",
    "                  6.669, 6.813, 6.958, 7.102, 7.246, 7.391, 7.536, 7.680, 7.825, 7.969])\n",
    "peak_window = 0.06\n",
    "\n",
    "# Declare plotting specifications\n",
    "number_bins = 250\n",
    "lower_y = 0\n",
    "upper_y = 40e3\n",
    "\n",
    "# Declare area integration limits, in units of sigma\n",
    "peak_lower_limit = -16\n",
    "peak_upper_limit = 4\n",
    "background_lower_limit = -30\n",
    "background_upper_limit = -25\n",
    "\n",
    "# Prepare data for iteration\n",
    "energies_vec = [energies_nr, energies_he3]\n",
    "label_vec = ['Multi-Grid detector:NR', 'Helium-3 tube']\n",
    "weights_vec = [np.ones(len(energies_nr)), np.ones(len(energies_he3))]\n",
    "colors = ['blue', 'red']\n",
    "\n",
    "# Declare data vectors where the peak areas will be saved\n",
    "peak_areas = [[], []]\n",
    "peak_widths = [[], []]\n",
    "\n",
    "# Iterate through all peaks\n",
    "for peak in peaks[0:50]:\n",
    "    fig = plt.figure()\n",
    "    fig.set_figheight(7)\n",
    "    fig.set_figwidth(14)\n",
    "    fig.suptitle('Peak @ %.3f meV (%.3f Å)' % (mg_hf.A_to_meV(peak), peak))\n",
    "    for i, (energies, weights, color, label) in enumerate(zip(energies_vec, weights_vec, colors, label_vec)):\n",
    "        # Plot data\n",
    "        plt.subplot(1, 2, i+1)\n",
    "        hist, bins = mg_advanced_plot.energy_plot(energies, number_bins, label,\n",
    "                                                  start=peak-peak_window/2, stop=peak+peak_window/2,\n",
    "                                                  color=color)\n",
    "        # Get fit parameter guesses\n",
    "        a_guess, x0_guess, sigma_guess = mg_hf.get_fit_parameters_guesses(hist, bins)\n",
    "        # Define fit region based on these guesses, ±4 sigma\n",
    "        left_fit, right_fit = (x0_guess - (4 * sigma_guess)), (x0_guess + (4 * sigma_guess))\n",
    "        hist_fit, bins_fit = mg_hf.get_hist(energies, number_bins, left_fit, right_fit)\n",
    "        \n",
    "        # Fit data and plot fit\n",
    "        a, x0, sigma, x_fit, y_fit, *_ = mg_hf.fit_data(hist_fit, bins_fit, a_guess, x0_guess, sigma_guess)\n",
    "        plt.plot(x_fit, y_fit*(max(hist)/max(y_fit)), label='Gaussian fit - %s' % label, color='black')\n",
    "        # Get peak area\n",
    "        #bin_width = bins[1] - bins[0]\n",
    "        #peak_area = mg_hf.get_peak_area(energies, x0, sigma, bin_width, peak_lower_limit, peak_upper_limit,\n",
    "        #                                background_lower_limit, background_upper_limit, weights=weights)\n",
    "        \n",
    "        # Get resolution\n",
    "        #peak_width = 2 * np.sqrt(2*log(2)) * sigma\n",
    "        \n",
    "        # Plot borders\n",
    "        plt.axvline(x=x0 + peak_lower_limit*sigma, color='orange', linewidth=2,\n",
    "                    label='Peak border: %d σ' % peak_lower_limit)\n",
    "        plt.axvline(x=x0 + peak_upper_limit*sigma, color='orange', linewidth=2,\n",
    "                    label='Peak border: %d σ' % peak_upper_limit)\n",
    "        \n",
    "        plt.axvline(x=x0 + background_lower_limit*sigma, color='orange', linewidth=2,\n",
    "                    label='Background border: %d σ' % background_lower_limit)\n",
    "        plt.axvline(x=x0 + background_upper_limit*sigma, color='orange', linewidth=2,\n",
    "                    label='Background border: %d σ' % background_upper_limit)\n",
    "        \n",
    "        # Stylize plot\n",
    "        plt.title(label)\n",
    "        plt.ylabel('Counts')\n",
    "        plt.xscale('linear')\n",
    "        plt.yscale('log')\n",
    "        plt.legend()\n",
    "        \n",
    "        # Store peak area and resolution\n",
    "        #peak_areas[i].append(peak_area)\n",
    "        #peak_widths[i].append(peak_width)\n",
    "        \n",
    "    \n",
    "    # Save data\n",
    "    output_path = '../output/peak_at_%.2f_Å_%.2f_meV.pdf' % (peak, A_to_meV(peak))\n",
    "    fig.savefig(output_path, bbox_inches='tight')\n",
    "    plt.close()\n",
    "    "
   ]
  },
  {
   "cell_type": "markdown",
   "metadata": {},
   "source": [
    "##### 4.3 Lineshape"
   ]
  },
  {
   "cell_type": "code",
   "execution_count": null,
   "metadata": {},
   "outputs": [],
   "source": []
  },
  {
   "cell_type": "markdown",
   "metadata": {},
   "source": [
    "##### 4.4 Time- and energy resolution"
   ]
  },
  {
   "cell_type": "code",
   "execution_count": null,
   "metadata": {},
   "outputs": [],
   "source": [
    "# Plot data\n",
    "fig = mg_advanced_plot.layers_tof(mg_r, 'Radial coating')\n",
    "fig.show()\n",
    "fig = mg_advanced_plot.layers_tof(mg_nr, 'No radial coated')\n",
    "fig.show()"
   ]
  },
  {
   "cell_type": "code",
   "execution_count": null,
   "metadata": {},
   "outputs": [],
   "source": []
  },
  {
   "cell_type": "markdown",
   "metadata": {},
   "source": [
    "##### 4.5 Parasitic peaks"
   ]
  },
  {
   "cell_type": "code",
   "execution_count": null,
   "metadata": {},
   "outputs": [],
   "source": [
    "# Multi-Grid @ 5.1 Å\n",
    "start = 35462  # us\n",
    "end = 36493 # us\n",
    "peak = 36182 # us\n",
    "duration_mg = end - start\n",
    "peak_loc_mg = peak - start\n",
    "print('--------------------')\n",
    "print('Multi-Grid')\n",
    "print('Duration: %d us' % duration_mg)\n",
    "print('Peak location: %d us' % peak_loc_mg)\n",
    "print('Relative peak location: %.2f' % (peak_loc_mg/duration_mg))\n",
    "print('--------------------')\n",
    "\n",
    "# Helium-3 @ 5.1 Å\n",
    "start = 35231 # us\n",
    "end = 36260 # us\n",
    "peak = 36048 # us\n",
    "duration_he3 = end - start\n",
    "peak_loc_he3 = peak - start\n",
    "print('--------------------')\n",
    "print('Helium-3')\n",
    "print('Duration: %d us' % duration_he3)\n",
    "print('Peak location: %d us' % peak_loc_he3)\n",
    "print('Relative peak location: %.2f' % (peak_loc_he3/duration_he3))\n",
    "print('--------------------')\n",
    "\n"
   ]
  },
  {
   "cell_type": "markdown",
   "metadata": {},
   "source": [
    "### Acknowledgements"
   ]
  },
  {
   "cell_type": "markdown",
   "metadata": {},
   "source": [
    "### References"
   ]
  },
  {
   "cell_type": "code",
   "execution_count": null,
   "metadata": {},
   "outputs": [],
   "source": []
  }
 ],
 "metadata": {
  "kernelspec": {
   "display_name": "Python 3",
   "language": "python",
   "name": "python3"
  },
  "language_info": {
   "codemirror_mode": {
    "name": "ipython",
    "version": 3
   },
   "file_extension": ".py",
   "mimetype": "text/x-python",
   "name": "python",
   "nbconvert_exporter": "python",
   "pygments_lexer": "ipython3",
   "version": "3.7.3"
  }
 },
 "nbformat": 4,
 "nbformat_minor": 2
}
