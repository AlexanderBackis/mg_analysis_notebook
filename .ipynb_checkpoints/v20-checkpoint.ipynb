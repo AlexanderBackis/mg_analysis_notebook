{
 "cells": [
  {
   "cell_type": "markdown",
   "metadata": {},
   "source": [
    "# Time- and energy resolved effects in thermal neutrons detectors\n",
    "> __Author:__ A. Backis\n",
    "<br/>__Institute:__ European Spallation Source (ESS), University of Glasgow\n",
    "<br/>__Date:__ 7/1-2020\n",
    "\n",
    "_Abstract:_\n",
    "This notebook contains the data-analysis tools used for the corresponding paper. It describes how the analysis was performed on data obtained with the Multi-Grid detector at the HZB."
   ]
  },
  {
   "cell_type": "markdown",
   "metadata": {},
   "source": [
    "## Contents\n",
    "* [1. Introduction](#INTRO)\n",
    "    * [1.1 Overview](#READING)\n",
    "    * [1.2 Packages](#READING)\n",
    "* [2. Data](#INTRO)\n",
    "    * [2.1 Import](#INTRO)\n",
    "    * [2.2 Cluster](#INTRO)\n",
    "    * [2.3 Filter](#INTRO)\n",
    "* [3. Basic visualization](#IMPORT)\n",
    "    * [2.1 PHS](#READING)\n",
    "        * [3.1.1 1D](#READING)\n",
    "        * [3.1.2 2D](#READING)\n",
    "        * [2.1.3 Wires vs grids](#READING)\n",
    "    * [2.2 Time-of-flight](#CLUSTERING)\n",
    "    * [2.3 Coincidences](#CLUSTERING)\n",
    "        * [3.3.1 Wires vs grids](#CLUSTERING)\n",
    "        * [3.3.2 Projections](#CLUSTERING)\n",
    "        * [3.3.3 3D-Rotation](#CLUSTERING)\n",
    "    * [2.4 Multiplicity](#CLUSTERING)\n",
    "    * [2.5 Timestamp](#CLUSTERING)\n",
    "* [4. Advanced visualization](#IMPORT)\n",
    "    * [4.1 Layers](#layers)\n",
    "* [5. Animation](#animation)\n",
    "* [6. Analysis](#ANALYSIS)\n",
    "    * [6.1 Electronic noise](#ANALYSIS)\n",
    "    * [6.2 Efficiency](#ANALYSIS)\n",
    "    * [6.3 Line shape](#ANALYSIS)\n",
    "    * [6.4 Time- and energy resolution](#ANALYSIS)\n",
    "* [Acknowledgements](#ACK)\n",
    "* [References](#REF)"
   ]
  },
  {
   "cell_type": "markdown",
   "metadata": {},
   "source": [
    "### 1. Introduction"
   ]
  },
  {
   "cell_type": "code",
   "execution_count": 5,
   "metadata": {},
   "outputs": [],
   "source": []
  },
  {
   "cell_type": "markdown",
   "metadata": {},
   "source": [
    "### 2. Data"
   ]
  },
  {
   "cell_type": "markdown",
   "metadata": {},
   "source": [
    "#### 2.1 Import"
   ]
  },
  {
   "cell_type": "code",
   "execution_count": null,
   "metadata": {},
   "outputs": [],
   "source": []
  },
  {
   "cell_type": "markdown",
   "metadata": {},
   "source": [
    "### 3. Basic visualization"
   ]
  },
  {
   "cell_type": "markdown",
   "metadata": {},
   "source": [
    "### 4. Advanced visualization"
   ]
  },
  {
   "cell_type": "markdown",
   "metadata": {},
   "source": [
    "### 5. Animation"
   ]
  },
  {
   "cell_type": "markdown",
   "metadata": {},
   "source": [
    "### 6. Analysis"
   ]
  },
  {
   "cell_type": "markdown",
   "metadata": {},
   "source": [
    "### Acknowledgements"
   ]
  },
  {
   "cell_type": "markdown",
   "metadata": {},
   "source": [
    "### References"
   ]
  },
  {
   "cell_type": "code",
   "execution_count": null,
   "metadata": {},
   "outputs": [],
   "source": []
  }
 ],
 "metadata": {
  "kernelspec": {
   "display_name": "Python 3",
   "language": "python",
   "name": "python3"
  },
  "language_info": {
   "codemirror_mode": {
    "name": "ipython",
    "version": 3
   },
   "file_extension": ".py",
   "mimetype": "text/x-python",
   "name": "python",
   "nbconvert_exporter": "python",
   "pygments_lexer": "ipython3",
   "version": "3.7.3"
  }
 },
 "nbformat": 4,
 "nbformat_minor": 2
}
